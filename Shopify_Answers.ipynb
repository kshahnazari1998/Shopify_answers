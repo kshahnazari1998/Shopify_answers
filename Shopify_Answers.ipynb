{
 "cells": [
  {
   "cell_type": "markdown",
   "id": "orange-sleeping",
   "metadata": {},
   "source": [
    "# Answered by Kevin Shahnazari"
   ]
  },
  {
   "cell_type": "markdown",
   "id": "banned-coral",
   "metadata": {},
   "source": [
    "# Question 1"
   ]
  },
  {
   "cell_type": "markdown",
   "id": "robust-remove",
   "metadata": {},
   "source": [
    "## Answer 1.A: There seem to be some outliers in the order dataset. From Eyeballing the data, we could see that there are two types of outliers. The first type is the result of a huge order quantity which could indicate those shops are probably wholesale stores, but further investigation is needed to validate this hypothesis. The second type of outliers occurs where the total items ordered are in the normal range, but the item's price is super high! \n",
    "## There are a few different approaches we could take here. One would be to remove the outliers that deviate from the mean more than three times the standard deviation to remove the outliers. "
   ]
  },
  {
   "cell_type": "markdown",
   "id": "meaningful-dressing",
   "metadata": {},
   "source": [
    "## Answer 1.B: The more straightforward approach here would be to use the median of data because it is more robust to outliers than the mean. Also, it doesn't have the complications of other algorithms such as the standard deviation, and it's easier to implement. The reason is that when there are outliers in the dataset, the data becomes skewed, and this affects the average. So the final used metric would be MOV (median order value) "
   ]
  },
  {
   "cell_type": "code",
   "execution_count": 19,
   "id": "planned-briefing",
   "metadata": {},
   "outputs": [],
   "source": [
    "import pandas as pd"
   ]
  },
  {
   "cell_type": "code",
   "execution_count": 20,
   "id": "tender-medicaid",
   "metadata": {},
   "outputs": [
    {
     "data": {
      "text/html": [
       "<div>\n",
       "<style scoped>\n",
       "    .dataframe tbody tr th:only-of-type {\n",
       "        vertical-align: middle;\n",
       "    }\n",
       "\n",
       "    .dataframe tbody tr th {\n",
       "        vertical-align: top;\n",
       "    }\n",
       "\n",
       "    .dataframe thead th {\n",
       "        text-align: right;\n",
       "    }\n",
       "</style>\n",
       "<table border=\"1\" class=\"dataframe\">\n",
       "  <thead>\n",
       "    <tr style=\"text-align: right;\">\n",
       "      <th></th>\n",
       "      <th>order_id</th>\n",
       "      <th>shop_id</th>\n",
       "      <th>user_id</th>\n",
       "      <th>order_amount</th>\n",
       "      <th>total_items</th>\n",
       "      <th>payment_method</th>\n",
       "      <th>created_at</th>\n",
       "    </tr>\n",
       "  </thead>\n",
       "  <tbody>\n",
       "    <tr>\n",
       "      <th>0</th>\n",
       "      <td>1</td>\n",
       "      <td>53</td>\n",
       "      <td>746</td>\n",
       "      <td>224</td>\n",
       "      <td>2</td>\n",
       "      <td>cash</td>\n",
       "      <td>2017-03-13 12:36:56</td>\n",
       "    </tr>\n",
       "    <tr>\n",
       "      <th>1</th>\n",
       "      <td>2</td>\n",
       "      <td>92</td>\n",
       "      <td>925</td>\n",
       "      <td>90</td>\n",
       "      <td>1</td>\n",
       "      <td>cash</td>\n",
       "      <td>2017-03-03 17:38:52</td>\n",
       "    </tr>\n",
       "    <tr>\n",
       "      <th>2</th>\n",
       "      <td>3</td>\n",
       "      <td>44</td>\n",
       "      <td>861</td>\n",
       "      <td>144</td>\n",
       "      <td>1</td>\n",
       "      <td>cash</td>\n",
       "      <td>2017-03-14 4:23:56</td>\n",
       "    </tr>\n",
       "    <tr>\n",
       "      <th>3</th>\n",
       "      <td>4</td>\n",
       "      <td>18</td>\n",
       "      <td>935</td>\n",
       "      <td>156</td>\n",
       "      <td>1</td>\n",
       "      <td>credit_card</td>\n",
       "      <td>2017-03-26 12:43:37</td>\n",
       "    </tr>\n",
       "    <tr>\n",
       "      <th>4</th>\n",
       "      <td>5</td>\n",
       "      <td>18</td>\n",
       "      <td>883</td>\n",
       "      <td>156</td>\n",
       "      <td>1</td>\n",
       "      <td>credit_card</td>\n",
       "      <td>2017-03-01 4:35:11</td>\n",
       "    </tr>\n",
       "    <tr>\n",
       "      <th>5</th>\n",
       "      <td>6</td>\n",
       "      <td>58</td>\n",
       "      <td>882</td>\n",
       "      <td>138</td>\n",
       "      <td>1</td>\n",
       "      <td>credit_card</td>\n",
       "      <td>2017-03-14 15:25:01</td>\n",
       "    </tr>\n",
       "  </tbody>\n",
       "</table>\n",
       "</div>"
      ],
      "text/plain": [
       "   order_id  shop_id  user_id  order_amount  total_items payment_method  \\\n",
       "0         1       53      746           224            2           cash   \n",
       "1         2       92      925            90            1           cash   \n",
       "2         3       44      861           144            1           cash   \n",
       "3         4       18      935           156            1    credit_card   \n",
       "4         5       18      883           156            1    credit_card   \n",
       "5         6       58      882           138            1    credit_card   \n",
       "\n",
       "            created_at  \n",
       "0  2017-03-13 12:36:56  \n",
       "1  2017-03-03 17:38:52  \n",
       "2   2017-03-14 4:23:56  \n",
       "3  2017-03-26 12:43:37  \n",
       "4   2017-03-01 4:35:11  \n",
       "5  2017-03-14 15:25:01  "
      ]
     },
     "execution_count": 20,
     "metadata": {},
     "output_type": "execute_result"
    }
   ],
   "source": [
    "data = pd.read_csv('data.csv')\n",
    "data.head(6)"
   ]
  },
  {
   "cell_type": "code",
   "execution_count": 21,
   "id": "binding-dispute",
   "metadata": {},
   "outputs": [
    {
     "data": {
      "text/html": [
       "<div>\n",
       "<style scoped>\n",
       "    .dataframe tbody tr th:only-of-type {\n",
       "        vertical-align: middle;\n",
       "    }\n",
       "\n",
       "    .dataframe tbody tr th {\n",
       "        vertical-align: top;\n",
       "    }\n",
       "\n",
       "    .dataframe thead th {\n",
       "        text-align: right;\n",
       "    }\n",
       "</style>\n",
       "<table border=\"1\" class=\"dataframe\">\n",
       "  <thead>\n",
       "    <tr style=\"text-align: right;\">\n",
       "      <th></th>\n",
       "      <th>order_id</th>\n",
       "      <th>shop_id</th>\n",
       "      <th>user_id</th>\n",
       "      <th>order_amount</th>\n",
       "      <th>total_items</th>\n",
       "      <th>payment_method</th>\n",
       "      <th>created_at</th>\n",
       "    </tr>\n",
       "  </thead>\n",
       "  <tbody>\n",
       "    <tr>\n",
       "      <th>15</th>\n",
       "      <td>16</td>\n",
       "      <td>42</td>\n",
       "      <td>607</td>\n",
       "      <td>704000</td>\n",
       "      <td>2000</td>\n",
       "      <td>credit_card</td>\n",
       "      <td>2017-03-07 4:00:00</td>\n",
       "    </tr>\n",
       "    <tr>\n",
       "      <th>60</th>\n",
       "      <td>61</td>\n",
       "      <td>42</td>\n",
       "      <td>607</td>\n",
       "      <td>704000</td>\n",
       "      <td>2000</td>\n",
       "      <td>credit_card</td>\n",
       "      <td>2017-03-04 4:00:00</td>\n",
       "    </tr>\n",
       "    <tr>\n",
       "      <th>520</th>\n",
       "      <td>521</td>\n",
       "      <td>42</td>\n",
       "      <td>607</td>\n",
       "      <td>704000</td>\n",
       "      <td>2000</td>\n",
       "      <td>credit_card</td>\n",
       "      <td>2017-03-02 4:00:00</td>\n",
       "    </tr>\n",
       "    <tr>\n",
       "      <th>1104</th>\n",
       "      <td>1105</td>\n",
       "      <td>42</td>\n",
       "      <td>607</td>\n",
       "      <td>704000</td>\n",
       "      <td>2000</td>\n",
       "      <td>credit_card</td>\n",
       "      <td>2017-03-24 4:00:00</td>\n",
       "    </tr>\n",
       "    <tr>\n",
       "      <th>1362</th>\n",
       "      <td>1363</td>\n",
       "      <td>42</td>\n",
       "      <td>607</td>\n",
       "      <td>704000</td>\n",
       "      <td>2000</td>\n",
       "      <td>credit_card</td>\n",
       "      <td>2017-03-15 4:00:00</td>\n",
       "    </tr>\n",
       "    <tr>\n",
       "      <th>1436</th>\n",
       "      <td>1437</td>\n",
       "      <td>42</td>\n",
       "      <td>607</td>\n",
       "      <td>704000</td>\n",
       "      <td>2000</td>\n",
       "      <td>credit_card</td>\n",
       "      <td>2017-03-11 4:00:00</td>\n",
       "    </tr>\n",
       "    <tr>\n",
       "      <th>1562</th>\n",
       "      <td>1563</td>\n",
       "      <td>42</td>\n",
       "      <td>607</td>\n",
       "      <td>704000</td>\n",
       "      <td>2000</td>\n",
       "      <td>credit_card</td>\n",
       "      <td>2017-03-19 4:00:00</td>\n",
       "    </tr>\n",
       "    <tr>\n",
       "      <th>1602</th>\n",
       "      <td>1603</td>\n",
       "      <td>42</td>\n",
       "      <td>607</td>\n",
       "      <td>704000</td>\n",
       "      <td>2000</td>\n",
       "      <td>credit_card</td>\n",
       "      <td>2017-03-17 4:00:00</td>\n",
       "    </tr>\n",
       "    <tr>\n",
       "      <th>2153</th>\n",
       "      <td>2154</td>\n",
       "      <td>42</td>\n",
       "      <td>607</td>\n",
       "      <td>704000</td>\n",
       "      <td>2000</td>\n",
       "      <td>credit_card</td>\n",
       "      <td>2017-03-12 4:00:00</td>\n",
       "    </tr>\n",
       "    <tr>\n",
       "      <th>2297</th>\n",
       "      <td>2298</td>\n",
       "      <td>42</td>\n",
       "      <td>607</td>\n",
       "      <td>704000</td>\n",
       "      <td>2000</td>\n",
       "      <td>credit_card</td>\n",
       "      <td>2017-03-07 4:00:00</td>\n",
       "    </tr>\n",
       "  </tbody>\n",
       "</table>\n",
       "</div>"
      ],
      "text/plain": [
       "      order_id  shop_id  user_id  order_amount  total_items payment_method  \\\n",
       "15          16       42      607        704000         2000    credit_card   \n",
       "60          61       42      607        704000         2000    credit_card   \n",
       "520        521       42      607        704000         2000    credit_card   \n",
       "1104      1105       42      607        704000         2000    credit_card   \n",
       "1362      1363       42      607        704000         2000    credit_card   \n",
       "1436      1437       42      607        704000         2000    credit_card   \n",
       "1562      1563       42      607        704000         2000    credit_card   \n",
       "1602      1603       42      607        704000         2000    credit_card   \n",
       "2153      2154       42      607        704000         2000    credit_card   \n",
       "2297      2298       42      607        704000         2000    credit_card   \n",
       "\n",
       "              created_at  \n",
       "15    2017-03-07 4:00:00  \n",
       "60    2017-03-04 4:00:00  \n",
       "520   2017-03-02 4:00:00  \n",
       "1104  2017-03-24 4:00:00  \n",
       "1362  2017-03-15 4:00:00  \n",
       "1436  2017-03-11 4:00:00  \n",
       "1562  2017-03-19 4:00:00  \n",
       "1602  2017-03-17 4:00:00  \n",
       "2153  2017-03-12 4:00:00  \n",
       "2297  2017-03-07 4:00:00  "
      ]
     },
     "execution_count": 21,
     "metadata": {},
     "output_type": "execute_result"
    }
   ],
   "source": [
    "data.query(\"total_items > 500\").head(10)"
   ]
  },
  {
   "cell_type": "code",
   "execution_count": 22,
   "id": "honey-circus",
   "metadata": {},
   "outputs": [
    {
     "data": {
      "text/html": [
       "<div>\n",
       "<style scoped>\n",
       "    .dataframe tbody tr th:only-of-type {\n",
       "        vertical-align: middle;\n",
       "    }\n",
       "\n",
       "    .dataframe tbody tr th {\n",
       "        vertical-align: top;\n",
       "    }\n",
       "\n",
       "    .dataframe thead th {\n",
       "        text-align: right;\n",
       "    }\n",
       "</style>\n",
       "<table border=\"1\" class=\"dataframe\">\n",
       "  <thead>\n",
       "    <tr style=\"text-align: right;\">\n",
       "      <th></th>\n",
       "      <th>order_id</th>\n",
       "      <th>shop_id</th>\n",
       "      <th>user_id</th>\n",
       "      <th>order_amount</th>\n",
       "      <th>total_items</th>\n",
       "      <th>payment_method</th>\n",
       "      <th>created_at</th>\n",
       "    </tr>\n",
       "  </thead>\n",
       "  <tbody>\n",
       "    <tr>\n",
       "      <th>490</th>\n",
       "      <td>491</td>\n",
       "      <td>78</td>\n",
       "      <td>936</td>\n",
       "      <td>51450</td>\n",
       "      <td>2</td>\n",
       "      <td>debit</td>\n",
       "      <td>2017-03-26 17:08:19</td>\n",
       "    </tr>\n",
       "    <tr>\n",
       "      <th>493</th>\n",
       "      <td>494</td>\n",
       "      <td>78</td>\n",
       "      <td>983</td>\n",
       "      <td>51450</td>\n",
       "      <td>2</td>\n",
       "      <td>cash</td>\n",
       "      <td>2017-03-16 21:39:35</td>\n",
       "    </tr>\n",
       "    <tr>\n",
       "      <th>511</th>\n",
       "      <td>512</td>\n",
       "      <td>78</td>\n",
       "      <td>967</td>\n",
       "      <td>51450</td>\n",
       "      <td>2</td>\n",
       "      <td>cash</td>\n",
       "      <td>2017-03-09 7:23:14</td>\n",
       "    </tr>\n",
       "    <tr>\n",
       "      <th>617</th>\n",
       "      <td>618</td>\n",
       "      <td>78</td>\n",
       "      <td>760</td>\n",
       "      <td>51450</td>\n",
       "      <td>2</td>\n",
       "      <td>cash</td>\n",
       "      <td>2017-03-18 11:18:42</td>\n",
       "    </tr>\n",
       "    <tr>\n",
       "      <th>691</th>\n",
       "      <td>692</td>\n",
       "      <td>78</td>\n",
       "      <td>878</td>\n",
       "      <td>154350</td>\n",
       "      <td>6</td>\n",
       "      <td>debit</td>\n",
       "      <td>2017-03-27 22:51:43</td>\n",
       "    </tr>\n",
       "  </tbody>\n",
       "</table>\n",
       "</div>"
      ],
      "text/plain": [
       "     order_id  shop_id  user_id  order_amount  total_items payment_method  \\\n",
       "490       491       78      936         51450            2          debit   \n",
       "493       494       78      983         51450            2           cash   \n",
       "511       512       78      967         51450            2           cash   \n",
       "617       618       78      760         51450            2           cash   \n",
       "691       692       78      878        154350            6          debit   \n",
       "\n",
       "              created_at  \n",
       "490  2017-03-26 17:08:19  \n",
       "493  2017-03-16 21:39:35  \n",
       "511   2017-03-09 7:23:14  \n",
       "617  2017-03-18 11:18:42  \n",
       "691  2017-03-27 22:51:43  "
      ]
     },
     "execution_count": 22,
     "metadata": {},
     "output_type": "execute_result"
    }
   ],
   "source": [
    "data.query(\"order_amount > 50000 and shop_id!=42\").head()"
   ]
  },
  {
   "cell_type": "markdown",
   "id": "mental-southwest",
   "metadata": {},
   "source": [
    "## Answer 1.C"
   ]
  },
  {
   "cell_type": "code",
   "execution_count": 18,
   "id": "instructional-spyware",
   "metadata": {},
   "outputs": [
    {
     "data": {
      "text/plain": [
       "284.0"
      ]
     },
     "execution_count": 18,
     "metadata": {},
     "output_type": "execute_result"
    }
   ],
   "source": [
    "data[\"order_amount\"].median()"
   ]
  },
  {
   "cell_type": "markdown",
   "id": "indonesian-elite",
   "metadata": {},
   "source": [
    "# The median order value is $284"
   ]
  },
  {
   "cell_type": "markdown",
   "id": "round-priority",
   "metadata": {},
   "source": [
    "# Question 2"
   ]
  },
  {
   "cell_type": "markdown",
   "id": "breathing-chosen",
   "metadata": {},
   "source": [
    "## Question 2.A "
   ]
  },
  {
   "cell_type": "code",
   "execution_count": null,
   "id": "alpha-tonight",
   "metadata": {},
   "outputs": [],
   "source": [
    "SELECT count(Orders.OrderID) FROM Orders\n",
    "INNER JOIN Shippers ON Orders.ShipperID=Shippers.ShipperID \n",
    "WHERE Shippers.ShipperName=\"Speedy Express\""
   ]
  },
  {
   "cell_type": "markdown",
   "id": "becoming-asbestos",
   "metadata": {},
   "source": [
    "## There are 54 orders shipped with Speedy Express"
   ]
  },
  {
   "cell_type": "markdown",
   "id": "assisted-expert",
   "metadata": {},
   "source": [
    "## Question 2.B "
   ]
  },
  {
   "cell_type": "code",
   "execution_count": null,
   "id": "julian-chester",
   "metadata": {},
   "outputs": [],
   "source": [
    "SELECT Employees.LastName FROM Employees \n",
    "LEFT JOIN Orders ON Employees.EmployeeID=Orders.EmployeeID\n",
    "GROUP BY Orders.EmployeeID \n",
    "ORDER BY COUNT(Orders.CustomerID) DESC LIMIT 1"
   ]
  },
  {
   "cell_type": "markdown",
   "id": "elegant-broadcast",
   "metadata": {},
   "source": [
    "## The last name of the Employee is Peacock"
   ]
  },
  {
   "cell_type": "markdown",
   "id": "loved-station",
   "metadata": {},
   "source": [
    "## Question 2.C"
   ]
  },
  {
   "cell_type": "code",
   "execution_count": null,
   "id": "signal-anderson",
   "metadata": {},
   "outputs": [],
   "source": [
    "SELECT ProductName,OrderDetails.ProductID,sum(OrderDetails.Quantity) FROM OrderDetails\n",
    "INNER JOIN Products ON OrderDetails.ProductID=Products.ProductID\n",
    "WHERE OrderDetails.OrderID IN (\n",
    "SELECT Orders.OrderID FROM Orders\n",
    "INNER JOIN Customers ON Orders.CustomerID=Customers.CustomerID\n",
    "WHERE Customers.Country=\"Germany\") \n",
    "GROUP BY OrderDetails.ProductID ORDER BY sum(Quantity) DESC Limit 1"
   ]
  },
  {
   "cell_type": "markdown",
   "id": "inner-publication",
   "metadata": {},
   "source": [
    "## The quantity order of product 40 Named (Boston Crab Meat) was the largest by costumers in Germany with a sum of 160."
   ]
  }
 ],
 "metadata": {
  "kernelspec": {
   "display_name": "Python [conda env:root]",
   "language": "python",
   "name": "conda-root-py"
  },
  "language_info": {
   "codemirror_mode": {
    "name": "ipython",
    "version": 3
   },
   "file_extension": ".py",
   "mimetype": "text/x-python",
   "name": "python",
   "nbconvert_exporter": "python",
   "pygments_lexer": "ipython3",
   "version": "3.8.8"
  }
 },
 "nbformat": 4,
 "nbformat_minor": 5
}
